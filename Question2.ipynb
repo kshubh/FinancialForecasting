{
 "cells": [
  {
   "cell_type": "markdown",
   "id": "b4290405-91cc-45e0-a440-acc2186edd20",
   "metadata": {},
   "source": [
    "#### Q2. Quantitative Modelling in Python or R \n",
    "Please collect the EUR/USD daily exchange rate from FRED and complete the following tasks related to Value-at-Risk forecasting from a GARCH-type model with a Python or R script:\n",
    "\n",
    "a) Collect a daily series of a macroeconomic/financial indicator, which will influence the log return of EUR/USD from publicly available source. Please describe your choice and explain why.\n",
    "\n",
    "b) Run a GARCH-type model on the log return of EUR/USD with the series in a) as an exogenous variable in the mean process.\n",
    "\n",
    "c) Based on b), please prepare a plot of conditional distribution curve for a specific date, on which you should indicate the value at risk of 10% in total, both tails. Prepare a summary to interpret this plot.\n"
   ]
  },
  {
   "cell_type": "markdown",
   "id": "7d716813-ac2c-4e19-a381-8d9a55bcb42c",
   "metadata": {},
   "source": [
    "### Import libraries and load documents\n",
    "\n",
    "Load and clean the EUR/USD daily exchange rate data to compute log returns.\n",
    "    \n",
    "Choose an exogenous macroeconomic or financial variable (in this case, the U.S. 10-Year Treasury Yield) that could impact the EUR/USD exchange rate.\n",
    "\n",
    "Align the Treasury Yield data with the EUR/USD returns, creating a merged dataset with two columns: Log_Returns (dependent variable) and US_10Y_Yield (exogenous variable).\n"
   ]
  },
  {
   "cell_type": "code",
   "execution_count": 3,
   "id": "a68660ee-ef7c-40e2-9534-ac0ec5a26e2f",
   "metadata": {},
   "outputs": [
    {
     "name": "stdout",
     "output_type": "stream",
     "text": [
      "DATE\n",
      "2019-10-21   -0.089686\n",
      "2019-10-22   -0.062828\n",
      "2019-10-23   -0.179727\n",
      "2019-10-24   -0.180050\n",
      "2019-10-25   -0.153298\n",
      "Name: Log_Returns, dtype: float64\n"
     ]
    }
   ],
   "source": [
    "import pandas as pd\n",
    "import numpy as np\n",
    "\n",
    "# Load the EUR/USD dataset\n",
    "file_path = \"DEXUSEU.csv\"\n",
    "eur_usd_data = pd.read_csv(file_path, parse_dates=['DATE'], index_col='DATE')\n",
    "\n",
    "# Convert the 'DEXUSEU' column to numeric, coercing any errors to NaN\n",
    "eur_usd_data['DEXUSEU'] = pd.to_numeric(eur_usd_data['DEXUSEU'], errors='coerce')\n",
    "\n",
    "# Drop any rows with NaN values (caused by conversion errors or missing values)\n",
    "eur_usd_data = eur_usd_data.dropna()\n",
    "\n",
    "# Calculate log returns for EUR/USD\n",
    "eur_usd_data['Log_Returns'] = np.log(eur_usd_data['DEXUSEU'] / eur_usd_data['DEXUSEU'].shift(1)) * 100\n",
    "eur_usd_log_returns = eur_usd_data['Log_Returns'].dropna()\n",
    "\n",
    "# Display the first few rows to confirm\n",
    "print(eur_usd_log_returns.head())\n"
   ]
  },
  {
   "cell_type": "markdown",
   "id": "5a437e60-0a9e-4375-9270-f4383f0a760a",
   "metadata": {},
   "source": [
    "### Choice of 10-Year U.S. Treasury Yield as an Exogenous Variable\n",
    "The 10-year U.S. Treasury yield is a key macroeconomic indicator influencing the EUR/USD exchange rate. Treasury yields reflect expectations about U.S. interest rates, inflation, and economic health, affecting capital flows and the attractiveness of dollar-denominated assets:\n",
    "\n",
    "1. **Interest Rate Differential**: Higher Treasury yields make U.S. assets more attractive, often leading to USD appreciation as foreign investors increase demand for the dollar.\n",
    "2. **Macroeconomic Sentiment**: Rising yields can indicate strong U.S. economic growth, which may boost USD strength. Conversely, falling yields might signal an economic slowdown, potentially weakening the USD.\n",
    "\n",
    "By including Treasury yields as an exogenous variable in the GARCH model, we capture macroeconomic factors that influence EUR/USD returns and volatility.\n",
    "\n"
   ]
  },
  {
   "cell_type": "code",
   "execution_count": 5,
   "id": "d9163929-322f-4d48-ada4-3acabb718def",
   "metadata": {},
   "outputs": [],
   "source": [
    "# Load the U.S. 10-Year Treasury Yield data\n",
    "yield_file_path = \"DGS10.csv\"\n",
    "us_treasury_yield = pd.read_csv(yield_file_path, parse_dates=['DATE'], index_col='DATE')\n",
    "\n",
    "# Convert the 'DGS10' column to numeric, coercing errors to NaN\n",
    "us_treasury_yield['DGS10'] = pd.to_numeric(us_treasury_yield['DGS10'], errors='coerce')\n",
    "us_treasury_yield = us_treasury_yield.dropna()\n",
    "\n",
    "# Rename the column for clarity\n",
    "us_treasury_yield.rename(columns={'DGS10': 'US_10Y_Yield'}, inplace=True)\n",
    "\n",
    "# Merge with EUR/USD log returns\n",
    "merged_data = pd.concat([eur_usd_log_returns, us_treasury_yield], axis=1).dropna()\n"
   ]
  },
  {
   "cell_type": "code",
   "execution_count": 6,
   "id": "7c915cc2-3d64-406a-bcd2-6728290249ec",
   "metadata": {},
   "outputs": [
    {
     "data": {
      "text/html": [
       "<div>\n",
       "<style scoped>\n",
       "    .dataframe tbody tr th:only-of-type {\n",
       "        vertical-align: middle;\n",
       "    }\n",
       "\n",
       "    .dataframe tbody tr th {\n",
       "        vertical-align: top;\n",
       "    }\n",
       "\n",
       "    .dataframe thead th {\n",
       "        text-align: right;\n",
       "    }\n",
       "</style>\n",
       "<table border=\"1\" class=\"dataframe\">\n",
       "  <thead>\n",
       "    <tr style=\"text-align: right;\">\n",
       "      <th></th>\n",
       "      <th>Log_Returns</th>\n",
       "      <th>US_10Y_Yield</th>\n",
       "    </tr>\n",
       "    <tr>\n",
       "      <th>DATE</th>\n",
       "      <th></th>\n",
       "      <th></th>\n",
       "    </tr>\n",
       "  </thead>\n",
       "  <tbody>\n",
       "    <tr>\n",
       "      <th>2019-10-24</th>\n",
       "      <td>-0.180050</td>\n",
       "      <td>1.77</td>\n",
       "    </tr>\n",
       "    <tr>\n",
       "      <th>2019-10-25</th>\n",
       "      <td>-0.153298</td>\n",
       "      <td>1.80</td>\n",
       "    </tr>\n",
       "    <tr>\n",
       "      <th>2019-10-28</th>\n",
       "      <td>0.117249</td>\n",
       "      <td>1.85</td>\n",
       "    </tr>\n",
       "    <tr>\n",
       "      <th>2019-10-29</th>\n",
       "      <td>0.207105</td>\n",
       "      <td>1.84</td>\n",
       "    </tr>\n",
       "    <tr>\n",
       "      <th>2019-10-30</th>\n",
       "      <td>0.053957</td>\n",
       "      <td>1.78</td>\n",
       "    </tr>\n",
       "    <tr>\n",
       "      <th>...</th>\n",
       "      <td>...</td>\n",
       "      <td>...</td>\n",
       "    </tr>\n",
       "    <tr>\n",
       "      <th>2024-10-11</th>\n",
       "      <td>0.155485</td>\n",
       "      <td>4.08</td>\n",
       "    </tr>\n",
       "    <tr>\n",
       "      <th>2024-10-15</th>\n",
       "      <td>-0.393755</td>\n",
       "      <td>4.03</td>\n",
       "    </tr>\n",
       "    <tr>\n",
       "      <th>2024-10-16</th>\n",
       "      <td>-0.238839</td>\n",
       "      <td>4.02</td>\n",
       "    </tr>\n",
       "    <tr>\n",
       "      <th>2024-10-17</th>\n",
       "      <td>-0.331645</td>\n",
       "      <td>4.09</td>\n",
       "    </tr>\n",
       "    <tr>\n",
       "      <th>2024-10-18</th>\n",
       "      <td>0.156747</td>\n",
       "      <td>4.08</td>\n",
       "    </tr>\n",
       "  </tbody>\n",
       "</table>\n",
       "<p>1243 rows × 2 columns</p>\n",
       "</div>"
      ],
      "text/plain": [
       "            Log_Returns  US_10Y_Yield\n",
       "DATE                                 \n",
       "2019-10-24    -0.180050          1.77\n",
       "2019-10-25    -0.153298          1.80\n",
       "2019-10-28     0.117249          1.85\n",
       "2019-10-29     0.207105          1.84\n",
       "2019-10-30     0.053957          1.78\n",
       "...                 ...           ...\n",
       "2024-10-11     0.155485          4.08\n",
       "2024-10-15    -0.393755          4.03\n",
       "2024-10-16    -0.238839          4.02\n",
       "2024-10-17    -0.331645          4.09\n",
       "2024-10-18     0.156747          4.08\n",
       "\n",
       "[1243 rows x 2 columns]"
      ]
     },
     "execution_count": 6,
     "metadata": {},
     "output_type": "execute_result"
    }
   ],
   "source": [
    "merged_data"
   ]
  },
  {
   "cell_type": "markdown",
   "id": "8b52e4e2-481d-4403-ae5f-68c9d0892d63",
   "metadata": {},
   "source": [
    "## Define and Fit the GARCH Model\r\n",
    "\r\n",
    "The GARCH model setup involves specifying a **GARCH(1,1)** structure, which includes one lag for both ARCH and GARCH terms to capture time-varying volatility. We incorporate an intercept and the U.S. 10-Year Treasury Yield as an exogenous variable in the mean equation, creating what is known as an **ARX-GARCH** model. The mean equation of the model is represented as:\r\n",
    "\r\n",
    "**Mean Equation:**\r\n",
    "- R_t = α + β * X_t + ε_t\r\n",
    "  - Where R_t denotes the log return of EUR/USD, X_t is the U.S. 10-Year Treasury Yield (exogenous variable), and ε_t is the residual error term governed by the GARCH structure.\r\n",
    "\r\n",
    "The variance equation is specified as:\r\n",
    "\r\n",
    "**Variance Equation:**\r\n",
    "- σ_t^2 = ω + α_1 * ε_{t-1}^2 + β_1 * σ_{t-1}^2\r\n",
    "  - Where σ_t^2 represents the conditional variance of ε_t, ω is a constant term reflecting baseline variance, and α_1 and β_1 capture the impact of lagged squared returns and past variance, respectively.\r\n",
    "\r\n",
    "To estimate the model parameters, we employ **Maximum Likelihood Estimation (MLE)**. After fitting, the model's summary output is analyzed to evaluate the significance of the exogenous variable, which tests if the U.S. 10-Year Treasury Yield meaningfully impacts EUR/USD returns. The **GARCH parameters** (ω, α, and β) are also examined to understand the persistence and behavior of volatility in the exchange rate returns.\r\n",
    "rate returns.\r\n"
   ]
  },
  {
   "cell_type": "code",
   "execution_count": 8,
   "id": "67452b8a-9d97-4c1c-af15-175b686df2a6",
   "metadata": {},
   "outputs": [
    {
     "name": "stdout",
     "output_type": "stream",
     "text": [
      "Iteration:      1,   Func. Count:      7,   Neg. LLF: 234017235249910.7\n",
      "Iteration:      2,   Func. Count:     18,   Neg. LLF: 7148413487.571654\n",
      "Iteration:      3,   Func. Count:     27,   Neg. LLF: 40723.32599983817\n",
      "Iteration:      4,   Func. Count:     36,   Neg. LLF: 2041.1330804225859\n",
      "Iteration:      5,   Func. Count:     44,   Neg. LLF: 742.3377004814668\n",
      "Iteration:      6,   Func. Count:     51,   Neg. LLF: 1039.7913336836218\n",
      "Iteration:      7,   Func. Count:     59,   Neg. LLF: 739.2898549686911\n",
      "Iteration:      8,   Func. Count:     66,   Neg. LLF: 732.8934295788104\n",
      "Iteration:      9,   Func. Count:     72,   Neg. LLF: 732.8888730412792\n",
      "Iteration:     10,   Func. Count:     78,   Neg. LLF: 732.8887592312176\n",
      "Iteration:     11,   Func. Count:     84,   Neg. LLF: 732.8887585492582\n",
      "Optimization terminated successfully    (Exit mode 0)\n",
      "            Current function value: 732.8887585492582\n",
      "            Iterations: 11\n",
      "            Function evaluations: 84\n",
      "            Gradient evaluations: 11\n",
      "                          AR-X - GARCH Model Results                          \n",
      "==============================================================================\n",
      "Dep. Variable:            Log_Returns   R-squared:                      -0.000\n",
      "Mean Model:                      AR-X   Adj. R-squared:                 -0.001\n",
      "Vol Model:                      GARCH   Log-Likelihood:               -732.889\n",
      "Distribution:                  Normal   AIC:                           1475.78\n",
      "Method:            Maximum Likelihood   BIC:                           1501.40\n",
      "                                        No. Observations:                 1243\n",
      "Date:                Mon, Oct 28 2024   Df Residuals:                     1241\n",
      "Time:                        19:46:56   Df Model:                            2\n",
      "                                   Mean Model                                   \n",
      "================================================================================\n",
      "                    coef    std err          t      P>|t|       95.0% Conf. Int.\n",
      "--------------------------------------------------------------------------------\n",
      "Const        -4.3370e-04  2.384e-02 -1.819e-02      0.985 [-4.716e-02,4.629e-02]\n",
      "US_10Y_Yield -2.2406e-03  8.380e-03     -0.267      0.789 [-1.866e-02,1.418e-02]\n",
      "                               Volatility Model                              \n",
      "=============================================================================\n",
      "                 coef    std err          t      P>|t|       95.0% Conf. Int.\n",
      "-----------------------------------------------------------------------------\n",
      "omega      3.5742e-03  1.945e-03      1.837  6.618e-02 [-2.389e-04,7.387e-03]\n",
      "alpha[1]       0.0555  1.701e-02      3.263  1.102e-03  [2.216e-02,8.884e-02]\n",
      "beta[1]        0.9282  2.316e-02     40.074      0.000      [  0.883,  0.974]\n",
      "=============================================================================\n",
      "\n",
      "Covariance estimator: robust\n"
     ]
    }
   ],
   "source": [
    "from arch import arch_model\n",
    "\n",
    "# Define a GARCH(1,1) model with an ARX mean model (log returns with exogenous Treasury Yield)\n",
    "model = arch_model(merged_data['Log_Returns'], vol='Garch', p=1, q=1, mean='ARX', x=merged_data[['US_10Y_Yield']])\n",
    "garch_result = model.fit()\n",
    "print(garch_result.summary())\n"
   ]
  },
  {
   "cell_type": "markdown",
   "id": "4f01e64f-81f1-455b-8a11-ad0e6b890026",
   "metadata": {},
   "source": [
    "The AR-X GARCH model for EUR/USD log returns reveals that the 10-year U.S. Treasury yield has an insignificant effect on returns, with a coefficient of -0.0022 and a high p-value, suggesting no strong direct influence on the exchange rate’s short-term movements. In the volatility model, however, significant values for **alpha (0.0555)** and **beta (0.9282)** indicate that volatility is influenced by past shocks and is highly persistent over time. This implies that volatility tends to remain elevated once it rises, characteristic of financial markets. This model thus captures the time-dependent nature of volatility well, even though the yield itself does not significantly impact return levels."
   ]
  },
  {
   "cell_type": "markdown",
   "id": "fa1f033c-b268-4abd-a577-e5b747b89f14",
   "metadata": {},
   "source": [
    "### Part c Based on b), please prepare a plot of conditional distribution curve for a specific date, on which you should indicate the value at risk of 10% in total, both tails. Prepare a summary to interpret this plot.\n",
    "\n",
    "\n",
    "To plot the conditional distribution curve with VaR indication, we select a specific date for forecasting. Here we take the latest available date in the dataset. \n",
    "\n",
    "Using the GARCH model, we perform a 1-step-ahead forecast to obtain the conditional mean and variance for this date, using the most recent Treasury Yield value as an exogenous input. \n",
    "\n",
    "We calculate the 10% VaR bounds, with 5% on each tail, by adjusting the conditional mean by 1.645 times the conditional standard deviation to set the upper and lower bounds. \n",
    "\n",
    "Finally, we plot a normal distribution curve centered around the conditional mean, adding vertical lines to indicate the calculated VaR bounds, representing the 90% confidence interval for returns.\r\n"
   ]
  },
  {
   "cell_type": "code",
   "execution_count": 11,
   "id": "1b1a9359-0304-4390-9b8c-cb3eb5ebd809",
   "metadata": {},
   "outputs": [
    {
     "data": {
      "image/png": "[encoded data removed]",
      "text/plain": [
       "<Figure size 1000x600 with 1 Axes>"
      ]
     },
     "metadata": {},
     "output_type": "display_data"
    }
   ],
   "source": [
    "import matplotlib.pyplot as plt\n",
    "\n",
    "# Choose a specific date for the VaR plot\n",
    "forecast_date = '2024-10-18'  # Example date, adjust as needed\n",
    "# Get the last available value for US_10Y_Yield as a proxy for expected future values\n",
    "last_yield_value = merged_data['US_10Y_Yield'].iloc[-1]\n",
    "\n",
    "# Create a DataFrame to hold the expected future values for US_10Y_Yield\n",
    "exog_forecast = pd.DataFrame(last_yield_value, index=pd.date_range(start=forecast_date, periods=1), columns=['US_10Y_Yield'])\n",
    "\n",
    "# Forecast with exogenous variables for the chosen date\n",
    "forecast = garch_result.forecast(start=forecast_date, horizon=1, x=exog_forecast)\n",
    "\n",
    "# Extract conditional mean and variance for the specified date\n",
    "cond_variance = forecast.variance.loc[forecast_date].values[0]\n",
    "cond_mean = forecast.mean.loc[forecast_date].values[0]\n",
    "std_dev = np.sqrt(cond_variance)\n",
    "\n",
    "# Calculate the 10% VaR (5% in each tail)\n",
    "var_left = cond_mean - 1.645 * std_dev\n",
    "var_right = cond_mean + 1.645 * std_dev\n",
    "\n",
    "# Plot the conditional distribution curve\n",
    "x = np.linspace(cond_mean - 4 * std_dev, cond_mean + 4 * std_dev, 500)\n",
    "y = (1 / (std_dev * np.sqrt(2 * np.pi))) * np.exp(-0.5 * ((x - cond_mean) / std_dev) ** 2)\n",
    "\n",
    "plt.figure(figsize=(10, 6))\n",
    "plt.plot(x, y, label=\"Conditional Distribution\")\n",
    "plt.axvline(var_left, color='red', linestyle='--', label=f'VaR 5% Left Tail: {var_left:.4f}')\n",
    "plt.axvline(var_right, color='blue', linestyle='--', label=f'VaR 5% Right Tail: {var_right:.4f}')\n",
    "plt.title('Conditional Distribution with 10% Value-at-Risk (VaR)')\n",
    "plt.xlabel('Log Return')\n",
    "plt.ylabel('Density')\n",
    "plt.legend()\n",
    "plt.show()\n"
   ]
  },
  {
   "cell_type": "markdown",
   "id": "133274d6-207c-4280-9738-2d7a0f9d4dcb",
   "metadata": {},
   "source": [
    "---\n",
    "\n",
    "### Interpretation of Conditional Distribution Plot with VaR Indicators\n",
    "The conditional distribution plot forecasts EUR/USD returns on a specific date, with Value-at-Risk (VaR) at a 10% confidence level (5% in each tail) marking extreme outcomes:\n",
    "\n",
    "1. **Left Tail VaR (5%)**: Represents the downside risk, indicating the worst 5% of potential returns for the EUR/USD pair.\n",
    "2. **Right Tail VaR (5%)**: Shows the upside potential, reflecting the best 5% of returns driven by favorable conditions.\n",
    "3. **Volatility Insight**: The spread of the distribution reflects the level of risk or uncertainty in returns. A wider distribution implies higher volatility, while a narrower one suggests lower volatility.\n",
    "\n",
    "This plot helps assess potential extreme movements in EUR/USD. Including Treasury yields enhances the model's ability to reflect macroeconomic drivers.\n"
   ]
  }
 ],
 "metadata": {
  "kernelspec": {
   "display_name": "Python 3 (ipykernel)",
   "language": "python",
   "name": "python3"
  },
  "language_info": {
   "codemirror_mode": {
    "name": "ipython",
    "version": 3
   },
   "file_extension": ".py",
   "mimetype": "text/x-python",
   "name": "python",
   "nbconvert_exporter": "python",
   "pygments_lexer": "ipython3",
   "version": "3.12.4"
  }
 },
 "nbformat": 4,
 "nbformat_minor": 5
}
